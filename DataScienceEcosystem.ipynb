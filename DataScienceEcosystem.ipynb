{
 "cells": [
  {
   "cell_type": "markdown",
   "id": "ca4e9297",
   "metadata": {},
   "source": [
    "<h1>Data Science Tools and Ecosystem</h1>"
   ]
  },
  {
   "cell_type": "markdown",
   "id": "7f58db0e",
   "metadata": {},
   "source": [
    "In this notebook, Data Science Tools and all Ecosystem are summarized as my undesrtanding of knowledge."
   ]
  },
  {
   "cell_type": "markdown",
   "id": "60a21ead",
   "metadata": {},
   "source": [
    "#### Some of the popular languages that Data Scientists use are:\n",
    "<ol>\n",
    "    <li> Python </li>\n",
    "    <li> R </li>\n",
    "    <li> Javascript </li>\n",
    "    <li> SQL </li>\n",
    "    <li> Java </li>\n",
    "</ol>\n"
   ]
  },
  {
   "cell_type": "markdown",
   "id": "5445ba25",
   "metadata": {},
   "source": [
    "#### some of the commonly used libraries used by Data Scientists include:\n",
    "<ol>\n",
    "    <li>numpy</li>\n",
    "    <li>pandas</li>\n",
    "    <li>scikit-learn</li>\n",
    "    <li>scipy</li>\n",
    "    </ol>"
   ]
  },
  {
   "cell_type": "markdown",
   "id": "6aa7e3ab",
   "metadata": {},
   "source": [
    "<table>\n",
    "    <thead>\n",
    "      <tr>\n",
    "        <th>Data Science Tools</th>\n",
    "      </tr>\n",
    "    </thead>\n",
    "    <tbody>\n",
    "      <tr>\n",
    "        <td>Jupyter Notebook</td>\n",
    "      </tr>\n",
    "      <tr>\n",
    "        <td>RStudio</td>\n",
    "      </tr>\n",
    "      <tr>\n",
    "        <td>Visual Studio Code</td>\n",
    "      </tr>\n",
    "    </tbody>\n",
    "  </table>   \n"
   ]
  },
  {
   "cell_type": "markdown",
   "id": "726690c2",
   "metadata": {},
   "source": [
    "<h3>Below are a few examples of evaluating arithmetic expressions in Python</h3>"
   ]
  },
  {
   "cell_type": "code",
   "execution_count": 3,
   "id": "4e957f42",
   "metadata": {},
   "outputs": [
    {
     "data": {
      "text/plain": [
       "17"
      ]
     },
     "execution_count": 3,
     "metadata": {},
     "output_type": "execute_result"
    }
   ],
   "source": [
    "# This a simple arithmetic expression to mutiply then add integers\n",
    "(3*4)+5"
   ]
  },
  {
   "cell_type": "code",
   "execution_count": 4,
   "id": "e5afd5b0",
   "metadata": {},
   "outputs": [
    {
     "data": {
      "text/plain": [
       "3.3333333333333335"
      ]
     },
     "execution_count": 4,
     "metadata": {},
     "output_type": "execute_result"
    }
   ],
   "source": [
    "# This will convert 200 minutes to hours by diving by 60.\n",
    "200/60"
   ]
  },
  {
   "cell_type": "markdown",
   "id": "720e9562",
   "metadata": {},
   "source": [
    "<strong>Objectives:</strong>\n",
    "<ul>\n",
    "    <li>Some of the popular languages that Data Scientists use </li>\n",
    "    <li>Some of the commonly used libraries used by Data Scientists </li>\n",
    "    <li>Data Scince Tools </li>\n",
    "    <li>Evaluating Arithmetic Expression</li>\n",
    " </ul>"
   ]
  },
  {
   "cell_type": "markdown",
   "id": "fabd0394",
   "metadata": {},
   "source": [
    "<h2> Author </h2>\n",
    "<p> Rajendra Kandel </p>"
   ]
  },
  {
   "cell_type": "code",
   "execution_count": null,
   "id": "4490bd8c",
   "metadata": {},
   "outputs": [],
   "source": []
  }
 ],
 "metadata": {
  "kernelspec": {
   "display_name": "Python 3 (ipykernel)",
   "language": "python",
   "name": "python3"
  },
  "language_info": {
   "codemirror_mode": {
    "name": "ipython",
    "version": 3
   },
   "file_extension": ".py",
   "mimetype": "text/x-python",
   "name": "python",
   "nbconvert_exporter": "python",
   "pygments_lexer": "ipython3",
   "version": "3.11.5"
  }
 },
 "nbformat": 4,
 "nbformat_minor": 5
}
